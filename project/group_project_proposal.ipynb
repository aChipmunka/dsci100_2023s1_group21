{
 "cells": [
  {
   "cell_type": "code",
   "execution_count": null,
   "id": "915d0de8-120e-402e-b6c0-6cf385b8cb8b",
   "metadata": {},
   "outputs": [],
   "source": [
    "Group Project Proposal"
   ]
  },
  {
   "cell_type": "code",
   "execution_count": null,
   "id": "55e5613c-fa32-4e21-a942-3ac67d30d62b",
   "metadata": {},
   "outputs": [],
   "source": [
    "Title:"
   ]
  },
  {
   "cell_type": "markdown",
   "id": "617c244f-fbab-40f7-9c8c-0b58d70fc373",
   "metadata": {},
   "source": [
    "Introduction (Alvin):\n",
    "\n",
    "Introduction (Alvin):\n",
    "The goal of our data analysis is to create a classification model that is able to predict a patient's likelihood of having a heart disease, to a high degree of accuracy. Using the re-processed data Cleavland Heart Disease from the UCI database, we will first observe the relationships between factors, such as age, cholesterol levels and resting heart rate, with those that test positive with heart diseases. We will then use the strongest relationships to build our classification model.\n",
    "\n",
    "***rough draft - Alvin***\n"
   ]
  },
  {
   "cell_type": "code",
   "execution_count": null,
   "id": "493d6ed0-5722-4998-aab1-50dcf3bffd2f",
   "metadata": {},
   "outputs": [],
   "source": [
    "Preliminary exploratory data analysis (Wayne):\n",
    "\n",
    "\n"
   ]
  },
  {
   "cell_type": "code",
   "execution_count": null,
   "id": "f8b2e992-d42c-4b02-94d2-37bd6eb5e475",
   "metadata": {},
   "outputs": [],
   "source": [
    "Methods (Peter):\n",
    "\n",
    "\n"
   ]
  },
  {
   "cell_type": "code",
   "execution_count": null,
   "id": "ffba1746-ff76-4aa3-8cbb-2f296155a8b6",
   "metadata": {},
   "outputs": [],
   "source": [
    "Expected outcomes and significance (Vincent):\n",
    "\n",
    "\n",
    "\n"
   ]
  }
 ],
 "metadata": {
  "kernelspec": {
   "display_name": "R",
   "language": "R",
   "name": "ir"
  },
  "language_info": {
   "codemirror_mode": "r",
   "file_extension": ".r",
   "mimetype": "text/x-r-source",
   "name": "R",
   "pygments_lexer": "r",
   "version": "4.1.3"
  }
 },
 "nbformat": 4,
 "nbformat_minor": 5
}
