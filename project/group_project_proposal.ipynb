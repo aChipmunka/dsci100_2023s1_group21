{
 "cells": [
  {
   "cell_type": "code",
   "execution_count": null,
   "id": "915d0de8-120e-402e-b6c0-6cf385b8cb8b",
   "metadata": {},
   "outputs": [],
   "source": [
    "Group Project Proposal"
   ]
  },
  {
   "cell_type": "code",
   "execution_count": null,
   "id": "ce734c9e-b98d-46a7-9c6a-7909e49ea913",
   "metadata": {},
   "outputs": [],
   "source": [
    "Introduction (Alvin):\n",
    "\n",
    "\n"
   ]
  },
  {
   "cell_type": "code",
   "execution_count": null,
   "id": "493d6ed0-5722-4998-aab1-50dcf3bffd2f",
   "metadata": {},
   "outputs": [],
   "source": [
    "Preliminary exploratory data analysis (Wayne):\n",
    "\n",
    "\n"
   ]
  },
  {
   "cell_type": "code",
   "execution_count": null,
   "id": "f8b2e992-d42c-4b02-94d2-37bd6eb5e475",
   "metadata": {},
   "outputs": [],
   "source": [
    "Methods (Peter):\n",
    "\n",
    "\n"
   ]
  },
  {
   "cell_type": "code",
   "execution_count": null,
   "id": "ffba1746-ff76-4aa3-8cbb-2f296155a8b6",
   "metadata": {},
   "outputs": [],
   "source": [
    "Expected outcomes and significance (Peter):\n",
    "\n",
    "\n",
    "\n"
   ]
  }
 ],
 "metadata": {
  "kernelspec": {
   "display_name": "R",
   "language": "R",
   "name": "ir"
  },
  "language_info": {
   "codemirror_mode": "r",
   "file_extension": ".r",
   "mimetype": "text/x-r-source",
   "name": "R",
   "pygments_lexer": "r",
   "version": "4.1.3"
  }
 },
 "nbformat": 4,
 "nbformat_minor": 5
}
