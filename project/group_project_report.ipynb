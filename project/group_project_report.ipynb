{
 "cells": [
  {
   "cell_type": "markdown",
   "id": "830c6b7f-37ef-4ed5-9a7b-16084388c4aa",
   "metadata": {},
   "source": [
    "# Title"
   ]
  },
  {
   "cell_type": "markdown",
   "id": "eedd838b-2f25-46b1-8c0d-a1ec0e04d39f",
   "metadata": {},
   "source": [
    "# Introduction"
   ]
  },
  {
   "cell_type": "markdown",
   "id": "95b35b7b-6e0c-4ea1-a445-dd181ef762ff",
   "metadata": {},
   "source": [
    "# Method & Results"
   ]
  },
  {
   "cell_type": "markdown",
   "id": "581bddf1-9d80-4086-992f-08634666c174",
   "metadata": {},
   "source": [
    "# Discussion"
   ]
  },
  {
   "cell_type": "code",
   "execution_count": null,
   "id": "b2924c7e-5f46-47b3-884f-046572b43549",
   "metadata": {},
   "outputs": [],
   "source": []
  }
 ],
 "metadata": {
  "kernelspec": {
   "display_name": "R",
   "language": "R",
   "name": "ir"
  },
  "language_info": {
   "codemirror_mode": "r",
   "file_extension": ".r",
   "mimetype": "text/x-r-source",
   "name": "R",
   "pygments_lexer": "r",
   "version": "4.1.3"
  }
 },
 "nbformat": 4,
 "nbformat_minor": 5
}
