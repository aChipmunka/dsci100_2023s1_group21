{
 "cells": [
  {
   "cell_type": "markdown",
   "id": "07aee305-7201-4a4e-a8b4-5bbe0ccd2e3b",
   "metadata": {},
   "source": [
    "# Classification"
   ]
  },
  {
   "cell_type": "markdown",
   "id": "99016826-4be7-4a8d-966a-fa25361156c8",
   "metadata": {},
   "source": [
    "## 6.3 Evaluation Accuracy"
   ]
  },
  {
   "cell_type": "markdown",
   "id": "1c51081d-722f-4618-87ea-a47d31acecb7",
   "metadata": {},
   "source": [
    "- Split data into taining and test set\n",
    "    - Use training set to train and then see if the model successfully predicts the outcomes for the test set"
   ]
  },
  {
   "cell_type": "markdown",
   "id": "8d578218-50f6-40a6-b2f4-ccb6a3583ad7",
   "metadata": {},
   "source": [
    "## 6.4 Randomness and seeds\n",
    "\n",
    "- To avoid bias: let R split the datasets\n",
    "- ```set.seed()``` gives a unique sequence of numbers\n",
    "    - Use once at the begining to ensure that the analysis is reproducible and unbiased"
   ]
  },
  {
   "cell_type": "markdown",
   "id": "3a4eb4b6-6e8e-4b7d-8489-09ae141f17cd",
   "metadata": {},
   "source": [
    "## 6.5 Accuracy with ```tidymodels```\n",
    "\n",
    "### Create the train/test set\n",
    "\n",
    "- ```initial_split()``` first shuffles then stratifies the data by class label, ensuring same proportion for each class in training and test\n",
    "    - ```initial_split (cancer, prop = 0.75, strata = Class)``` (75% of data in the training set)\n",
    "    - `training` and `testing` functions\n",
    "    \n",
    "### Preprocess data\n",
    "\n",
    "- Standardization ppreprocessor recipe using only the training data\n",
    "\n",
    "### Predict labels in test set\n",
    "\n",
    "- ```bind_cols()``` to add the column of predictions to original data \n",
    "- ```metrics(truth = Class, estimate = .pred_class)```\\\n",
    "   `filter(.metric == 'accuracy')`\n",
    "- Confusion matrix\n",
    "    - `conf_mat(truth = Class, estimate = .pred_class)`\n",
    "\n",
    "### The majority classifier (e.g.)\n",
    "\n",
    "- Majority of the cases are benign in the training set (60%)\n",
    "- Model's accuracy should be an improvement on simply betting on the majority"
   ]
  },
  {
   "cell_type": "markdown",
   "id": "8f011c0d-a230-4108-b826-32f75565f8cc",
   "metadata": {},
   "source": [
    "## 6.6 Tuning, choosing the right $K$ value"
   ]
  },
  {
   "cell_type": "markdown",
   "id": "ce7b92fe-ca71-48e5-8556-9e071b9ec879",
   "metadata": {},
   "source": [
    "## Cross Validation\n",
    "- Traning data -> training + evaluating\n",
    "    - compare performance of different $K$\n",
    "    - can have multiple splits\n",
    "    - splits the training data into $C$ evenly sized chunks\n",
    "    - using one chunk as validation and the remaining $C-1$ chunks as training \n",
    "    - accuracy is the average\n",
    "- `vforld_cv(cancer_train, v = 5, strata = Class)`\n",
    "    - `recipe`\n",
    "    - `knn_fit` with `fit_resamples`\n",
    "    - `collect_metrics()`\n",
    "- `knn_spec <- nearest_neighbor(weight_func = 'rectangular', neighbors = tune 90)|>`\\\n",
    "               `set_engine ('kknn')|>`\\\n",
    "               `set_mode('classification')`\n",
    "    - `k_vals <- tibble(neighbors = seq(from = 1, to = 100, by = 5))` list of $k$ values to try\\\n",
    "       `knn_results <- workflow()|>`\\\n",
    "        `add_recipe(...)|> add model(...)|>`\\\n",
    "        `tune_grid(resamples = cancer_vfold, grid= k_vals)|>`\\\n",
    "        `collect_metrics()`\n",
    "- Choosing which k?\n",
    "    - roughly optimal\n",
    "    - nearby value -> significant decrease in accuracy\n",
    "    - cost\n",
    "\n",
    "## Under/overfitting\n",
    "- Under: the model is not influenced enough by the training data : i.e. choosing too many neighbors\n",
    "- Over: becomes unreliable, too litle neigbors were chosen"
   ]
  },
  {
   "cell_type": "code",
   "execution_count": null,
   "id": "a5f079af-b794-48ac-b008-72c31a1c5433",
   "metadata": {},
   "outputs": [],
   "source": []
  }
 ],
 "metadata": {
  "kernelspec": {
   "display_name": "R",
   "language": "R",
   "name": "ir"
  },
  "language_info": {
   "codemirror_mode": "r",
   "file_extension": ".r",
   "mimetype": "text/x-r-source",
   "name": "R",
   "pygments_lexer": "r",
   "version": "4.1.3"
  }
 },
 "nbformat": 4,
 "nbformat_minor": 5
}
